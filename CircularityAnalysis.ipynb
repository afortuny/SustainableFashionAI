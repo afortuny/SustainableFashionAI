{
  "nbformat": 4,
  "nbformat_minor": 0,
  "metadata": {
    "colab": {
      "provenance": [],
      "authorship_tag": "ABX9TyPjO25C3mpbhU8yhqGr3530",
      "include_colab_link": true
    },
    "kernelspec": {
      "name": "python3",
      "display_name": "Python 3"
    },
    "language_info": {
      "name": "python"
    },
    "widgets": {
      "application/vnd.jupyter.widget-state+json": {
        "8833b438bd9b41e9b8d6b409898eb5bc": {
          "model_module": "@jupyter-widgets/controls",
          "model_name": "VBoxModel",
          "model_module_version": "1.5.0",
          "state": {
            "_dom_classes": [],
            "_model_module": "@jupyter-widgets/controls",
            "_model_module_version": "1.5.0",
            "_model_name": "VBoxModel",
            "_view_count": null,
            "_view_module": "@jupyter-widgets/controls",
            "_view_module_version": "1.5.0",
            "_view_name": "VBoxView",
            "box_style": "",
            "children": [
              "IPY_MODEL_c1b3e6cfdd9948c7bf90dd3cdbd315b0",
              "IPY_MODEL_1f31f1863c5f49b6b923bbe0be65256e",
              "IPY_MODEL_8c2cad382e1146de905ff66533ff14f4",
              "IPY_MODEL_a88b7dc7b9994de89cdca6f000a43398"
            ],
            "layout": "IPY_MODEL_f312f94a1845403d9218c02db812a053"
          }
        },
        "c1b3e6cfdd9948c7bf90dd3cdbd315b0": {
          "model_module": "@jupyter-widgets/controls",
          "model_name": "LabelModel",
          "model_module_version": "1.5.0",
          "state": {
            "_dom_classes": [],
            "_model_module": "@jupyter-widgets/controls",
            "_model_module_version": "1.5.0",
            "_model_name": "LabelModel",
            "_view_count": null,
            "_view_module": "@jupyter-widgets/controls",
            "_view_module_version": "1.5.0",
            "_view_name": "LabelView",
            "description": "",
            "description_tooltip": null,
            "layout": "IPY_MODEL_cdc88c8e14fa4d628ef2455fe66b2b31",
            "placeholder": "​",
            "style": "IPY_MODEL_95b19f5cc6d944ea8c0f47edd27b2d4e",
            "value": "Upload your running shoe!"
          }
        },
        "1f31f1863c5f49b6b923bbe0be65256e": {
          "model_module": "@jupyter-widgets/controls",
          "model_name": "FileUploadModel",
          "model_module_version": "1.5.0",
          "state": {
            "_counter": 6,
            "_dom_classes": [],
            "_model_module": "@jupyter-widgets/controls",
            "_model_module_version": "1.5.0",
            "_model_name": "FileUploadModel",
            "_view_count": null,
            "_view_module": "@jupyter-widgets/controls",
            "_view_module_version": "1.5.0",
            "_view_name": "FileUploadView",
            "accept": "",
            "button_style": "",
            "data": [
              null
            ],
            "description": "Upload",
            "description_tooltip": null,
            "disabled": false,
            "error": "",
            "icon": "upload",
            "layout": "IPY_MODEL_f418b30f24d64cbfa4c89f75be1ff42e",
            "metadata": [
              {
                "name": "jd_FV2483_a.jpg",
                "type": "image/jpeg",
                "size": 957188,
                "lastModified": 1649975036093
              }
            ],
            "multiple": false,
            "style": "IPY_MODEL_ffc97f285c4b4d27852cffd131c098f4"
          }
        },
        "8c2cad382e1146de905ff66533ff14f4": {
          "model_module": "@jupyter-widgets/output",
          "model_name": "OutputModel",
          "model_module_version": "1.0.0",
          "state": {
            "_dom_classes": [],
            "_model_module": "@jupyter-widgets/output",
            "_model_module_version": "1.0.0",
            "_model_name": "OutputModel",
            "_view_count": null,
            "_view_module": "@jupyter-widgets/output",
            "_view_module_version": "1.0.0",
            "_view_name": "OutputView",
            "layout": "IPY_MODEL_114640091d2340ca948a953ef8af6e3c",
            "msg_id": "",
            "outputs": [
              {
                "output_type": "display_data",
                "data": {
                  "text/plain": "<PIL.Image.Image image mode=RGB size=128x91 at 0x7F4CABC8C2D0>",
                  "image/png": "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\n"
                },
                "metadata": {}
              }
            ]
          }
        },
        "a88b7dc7b9994de89cdca6f000a43398": {
          "model_module": "@jupyter-widgets/controls",
          "model_name": "LabelModel",
          "model_module_version": "1.5.0",
          "state": {
            "_dom_classes": [],
            "_model_module": "@jupyter-widgets/controls",
            "_model_module_version": "1.5.0",
            "_model_name": "LabelModel",
            "_view_count": null,
            "_view_module": "@jupyter-widgets/controls",
            "_view_module_version": "1.5.0",
            "_view_name": "LabelView",
            "description": "",
            "description_tooltip": null,
            "layout": "IPY_MODEL_d20cb23e90c541caaac89569f2ea1407",
            "placeholder": "​",
            "style": "IPY_MODEL_6821a907d6104837a965e84363ff1291",
            "value": "Prediction: Adidas Adizero Running Shoes; Probability: 0.9994"
          }
        },
        "f312f94a1845403d9218c02db812a053": {
          "model_module": "@jupyter-widgets/base",
          "model_name": "LayoutModel",
          "model_module_version": "1.2.0",
          "state": {
            "_model_module": "@jupyter-widgets/base",
            "_model_module_version": "1.2.0",
            "_model_name": "LayoutModel",
            "_view_count": null,
            "_view_module": "@jupyter-widgets/base",
            "_view_module_version": "1.2.0",
            "_view_name": "LayoutView",
            "align_content": null,
            "align_items": null,
            "align_self": null,
            "border": null,
            "bottom": null,
            "display": null,
            "flex": null,
            "flex_flow": null,
            "grid_area": null,
            "grid_auto_columns": null,
            "grid_auto_flow": null,
            "grid_auto_rows": null,
            "grid_column": null,
            "grid_gap": null,
            "grid_row": null,
            "grid_template_areas": null,
            "grid_template_columns": null,
            "grid_template_rows": null,
            "height": null,
            "justify_content": null,
            "justify_items": null,
            "left": null,
            "margin": null,
            "max_height": null,
            "max_width": null,
            "min_height": null,
            "min_width": null,
            "object_fit": null,
            "object_position": null,
            "order": null,
            "overflow": null,
            "overflow_x": null,
            "overflow_y": null,
            "padding": null,
            "right": null,
            "top": null,
            "visibility": null,
            "width": null
          }
        },
        "cdc88c8e14fa4d628ef2455fe66b2b31": {
          "model_module": "@jupyter-widgets/base",
          "model_name": "LayoutModel",
          "model_module_version": "1.2.0",
          "state": {
            "_model_module": "@jupyter-widgets/base",
            "_model_module_version": "1.2.0",
            "_model_name": "LayoutModel",
            "_view_count": null,
            "_view_module": "@jupyter-widgets/base",
            "_view_module_version": "1.2.0",
            "_view_name": "LayoutView",
            "align_content": null,
            "align_items": null,
            "align_self": null,
            "border": null,
            "bottom": null,
            "display": null,
            "flex": null,
            "flex_flow": null,
            "grid_area": null,
            "grid_auto_columns": null,
            "grid_auto_flow": null,
            "grid_auto_rows": null,
            "grid_column": null,
            "grid_gap": null,
            "grid_row": null,
            "grid_template_areas": null,
            "grid_template_columns": null,
            "grid_template_rows": null,
            "height": null,
            "justify_content": null,
            "justify_items": null,
            "left": null,
            "margin": null,
            "max_height": null,
            "max_width": null,
            "min_height": null,
            "min_width": null,
            "object_fit": null,
            "object_position": null,
            "order": null,
            "overflow": null,
            "overflow_x": null,
            "overflow_y": null,
            "padding": null,
            "right": null,
            "top": null,
            "visibility": null,
            "width": null
          }
        },
        "95b19f5cc6d944ea8c0f47edd27b2d4e": {
          "model_module": "@jupyter-widgets/controls",
          "model_name": "DescriptionStyleModel",
          "model_module_version": "1.5.0",
          "state": {
            "_model_module": "@jupyter-widgets/controls",
            "_model_module_version": "1.5.0",
            "_model_name": "DescriptionStyleModel",
            "_view_count": null,
            "_view_module": "@jupyter-widgets/base",
            "_view_module_version": "1.2.0",
            "_view_name": "StyleView",
            "description_width": ""
          }
        },
        "f418b30f24d64cbfa4c89f75be1ff42e": {
          "model_module": "@jupyter-widgets/base",
          "model_name": "LayoutModel",
          "model_module_version": "1.2.0",
          "state": {
            "_model_module": "@jupyter-widgets/base",
            "_model_module_version": "1.2.0",
            "_model_name": "LayoutModel",
            "_view_count": null,
            "_view_module": "@jupyter-widgets/base",
            "_view_module_version": "1.2.0",
            "_view_name": "LayoutView",
            "align_content": null,
            "align_items": null,
            "align_self": null,
            "border": null,
            "bottom": null,
            "display": null,
            "flex": null,
            "flex_flow": null,
            "grid_area": null,
            "grid_auto_columns": null,
            "grid_auto_flow": null,
            "grid_auto_rows": null,
            "grid_column": null,
            "grid_gap": null,
            "grid_row": null,
            "grid_template_areas": null,
            "grid_template_columns": null,
            "grid_template_rows": null,
            "height": null,
            "justify_content": null,
            "justify_items": null,
            "left": null,
            "margin": null,
            "max_height": null,
            "max_width": null,
            "min_height": null,
            "min_width": null,
            "object_fit": null,
            "object_position": null,
            "order": null,
            "overflow": null,
            "overflow_x": null,
            "overflow_y": null,
            "padding": null,
            "right": null,
            "top": null,
            "visibility": null,
            "width": null
          }
        },
        "ffc97f285c4b4d27852cffd131c098f4": {
          "model_module": "@jupyter-widgets/controls",
          "model_name": "ButtonStyleModel",
          "model_module_version": "1.5.0",
          "state": {
            "_model_module": "@jupyter-widgets/controls",
            "_model_module_version": "1.5.0",
            "_model_name": "ButtonStyleModel",
            "_view_count": null,
            "_view_module": "@jupyter-widgets/base",
            "_view_module_version": "1.2.0",
            "_view_name": "StyleView",
            "button_color": null,
            "font_weight": ""
          }
        },
        "d20cb23e90c541caaac89569f2ea1407": {
          "model_module": "@jupyter-widgets/base",
          "model_name": "LayoutModel",
          "model_module_version": "1.2.0",
          "state": {
            "_model_module": "@jupyter-widgets/base",
            "_model_module_version": "1.2.0",
            "_model_name": "LayoutModel",
            "_view_count": null,
            "_view_module": "@jupyter-widgets/base",
            "_view_module_version": "1.2.0",
            "_view_name": "LayoutView",
            "align_content": null,
            "align_items": null,
            "align_self": null,
            "border": null,
            "bottom": null,
            "display": null,
            "flex": null,
            "flex_flow": null,
            "grid_area": null,
            "grid_auto_columns": null,
            "grid_auto_flow": null,
            "grid_auto_rows": null,
            "grid_column": null,
            "grid_gap": null,
            "grid_row": null,
            "grid_template_areas": null,
            "grid_template_columns": null,
            "grid_template_rows": null,
            "height": null,
            "justify_content": null,
            "justify_items": null,
            "left": null,
            "margin": null,
            "max_height": null,
            "max_width": null,
            "min_height": null,
            "min_width": null,
            "object_fit": null,
            "object_position": null,
            "order": null,
            "overflow": null,
            "overflow_x": null,
            "overflow_y": null,
            "padding": null,
            "right": null,
            "top": null,
            "visibility": null,
            "width": null
          }
        },
        "6821a907d6104837a965e84363ff1291": {
          "model_module": "@jupyter-widgets/controls",
          "model_name": "DescriptionStyleModel",
          "model_module_version": "1.5.0",
          "state": {
            "_model_module": "@jupyter-widgets/controls",
            "_model_module_version": "1.5.0",
            "_model_name": "DescriptionStyleModel",
            "_view_count": null,
            "_view_module": "@jupyter-widgets/base",
            "_view_module_version": "1.2.0",
            "_view_name": "StyleView",
            "description_width": ""
          }
        },
        "114640091d2340ca948a953ef8af6e3c": {
          "model_module": "@jupyter-widgets/base",
          "model_name": "LayoutModel",
          "model_module_version": "1.2.0",
          "state": {
            "_model_module": "@jupyter-widgets/base",
            "_model_module_version": "1.2.0",
            "_model_name": "LayoutModel",
            "_view_count": null,
            "_view_module": "@jupyter-widgets/base",
            "_view_module_version": "1.2.0",
            "_view_name": "LayoutView",
            "align_content": null,
            "align_items": null,
            "align_self": null,
            "border": null,
            "bottom": null,
            "display": null,
            "flex": null,
            "flex_flow": null,
            "grid_area": null,
            "grid_auto_columns": null,
            "grid_auto_flow": null,
            "grid_auto_rows": null,
            "grid_column": null,
            "grid_gap": null,
            "grid_row": null,
            "grid_template_areas": null,
            "grid_template_columns": null,
            "grid_template_rows": null,
            "height": null,
            "justify_content": null,
            "justify_items": null,
            "left": null,
            "margin": null,
            "max_height": null,
            "max_width": null,
            "min_height": null,
            "min_width": null,
            "object_fit": null,
            "object_position": null,
            "order": null,
            "overflow": null,
            "overflow_x": null,
            "overflow_y": null,
            "padding": null,
            "right": null,
            "top": null,
            "visibility": null,
            "width": null
          }
        }
      }
    }
  },
  "cells": [
    {
      "cell_type": "markdown",
      "metadata": {
        "id": "view-in-github",
        "colab_type": "text"
      },
      "source": [
        "<a href=\"https://colab.research.google.com/github/afortuny/SustainableFashionAI/blob/main/CircularityAnalysis.ipynb\" target=\"_parent\"><img src=\"https://colab.research.google.com/assets/colab-badge.svg\" alt=\"Open In Colab\"/></a>"
      ]
    },
    {
      "cell_type": "markdown",
      "source": [
        "## Analyzing product reviews to understand circularity?\n",
        "\n",
        "We will leverage the data from https://www.trailrunningreview.com/ , a leading company in product analysis, and we will evalute each trail running shoe from SS22 based on that dimensions:\n",
        "\n",
        "Circularity:\n",
        "\n",
        "*   Durability: Is the product make to last?\n",
        "*   Versatility: can the product be used for multiple conditions /situations?\n",
        "*   Sustainable materials: is the product made with organic, recycable or vegan materials?\n",
        "\n",
        "Desirability:\n",
        "\n",
        "*   Function: Is the product build up appropiate for its purpose?\n",
        "*   Innovation: Is the product disrupting the market in some sense?\n",
        "*   Price: Is the product affordable?\n",
        "\n",
        "\n",
        "\n",
        "\n",
        "\n",
        "\n",
        "\n"
      ],
      "metadata": {
        "id": "-ptHSE4zaWTF"
      }
    },
    {
      "cell_type": "code",
      "source": [
        "#os.chdir('DeepLearningFastAI/') we will be assuming you are in the folder where the pickle file and brands reside"
      ],
      "metadata": {
        "id": "xfcdjIX-yXKy"
      },
      "execution_count": null,
      "outputs": []
    },
    {
      "cell_type": "code",
      "source": [
        "!pip install -Uqq fastbook\n",
        "import fastbook\n",
        "fastbook.setup_book()\n",
        "import fastai\n",
        "fastai.__version__\n"
      ],
      "metadata": {
        "colab": {
          "base_uri": "https://localhost:8080/",
          "height": 53
        },
        "id": "XfeBq7xOp74O",
        "outputId": "2df9eaff-9c89-455e-a3cf-510ca44861bf"
      },
      "execution_count": null,
      "outputs": [
        {
          "output_type": "stream",
          "name": "stdout",
          "text": [
            "Mounted at /content/gdrive\n"
          ]
        },
        {
          "output_type": "execute_result",
          "data": {
            "text/plain": [
              "'2.5.6'"
            ],
            "application/vnd.google.colaboratory.intrinsic+json": {
              "type": "string"
            }
          },
          "metadata": {},
          "execution_count": 1
        }
      ]
    },
    {
      "cell_type": "code",
      "source": [
        "import ipywidgets as widgets\n",
        "from fastai.vision.all import *\n",
        "from fastai.vision.widgets import * "
      ],
      "metadata": {
        "id": "Y39L8SicHhw9"
      },
      "execution_count": null,
      "outputs": []
    },
    {
      "cell_type": "code",
      "source": [
        "learn_inf = load_learner('export.pkl')\n",
        "btn_upload = widgets.FileUpload()\n",
        "out_pl = widgets.Output()\n",
        "lbl_pred = widgets.Label()\n"
      ],
      "metadata": {
        "id": "V_uzBTZeHlVy"
      },
      "execution_count": null,
      "outputs": []
    },
    {
      "cell_type": "code",
      "source": [
        "def on_data_change(change):\n",
        "    lbl_pred.value = ''\n",
        "    img = PILImage.create(btn_upload.data[-1])\n",
        "    out_pl.clear_output()\n",
        "    with out_pl: display(img.to_thumb(128,128))\n",
        "    pred,pred_idx,probs = learn_inf.predict(img)\n",
        "    lbl_pred.value = f'Prediction: {pred}; Probability: {probs[pred_idx]:.04f}'\n"
      ],
      "metadata": {
        "id": "1HIo_qq4Hn1e"
      },
      "execution_count": null,
      "outputs": []
    },
    {
      "cell_type": "code",
      "source": [
        "btn_upload.observe(on_data_change, names=['data'])\n"
      ],
      "metadata": {
        "id": "UiQbdo4wHpj8"
      },
      "execution_count": null,
      "outputs": []
    },
    {
      "cell_type": "code",
      "source": [
        "display(VBox([widgets.Label('Upload your running shoe!'), btn_upload, out_pl, lbl_pred]))"
      ],
      "metadata": {
        "id": "DumUw2PHHq4m",
        "colab": {
          "base_uri": "https://localhost:8080/",
          "height": 204,
          "referenced_widgets": [
            "8833b438bd9b41e9b8d6b409898eb5bc",
            "c1b3e6cfdd9948c7bf90dd3cdbd315b0",
            "1f31f1863c5f49b6b923bbe0be65256e",
            "8c2cad382e1146de905ff66533ff14f4",
            "a88b7dc7b9994de89cdca6f000a43398",
            "f312f94a1845403d9218c02db812a053",
            "cdc88c8e14fa4d628ef2455fe66b2b31",
            "95b19f5cc6d944ea8c0f47edd27b2d4e",
            "f418b30f24d64cbfa4c89f75be1ff42e",
            "ffc97f285c4b4d27852cffd131c098f4",
            "d20cb23e90c541caaac89569f2ea1407",
            "6821a907d6104837a965e84363ff1291",
            "114640091d2340ca948a953ef8af6e3c"
          ]
        },
        "outputId": "6ebd3424-7ae4-4ed6-a550-0cd545e0c08a"
      },
      "execution_count": null,
      "outputs": [
        {
          "output_type": "display_data",
          "data": {
            "text/plain": [
              "VBox(children=(Label(value='Upload your running shoe!'), FileUpload(value={}, description='Upload'), Output(),…"
            ],
            "application/vnd.jupyter.widget-view+json": {
              "version_major": 2,
              "version_minor": 0,
              "model_id": "8833b438bd9b41e9b8d6b409898eb5bc"
            }
          },
          "metadata": {}
        },
        {
          "output_type": "display_data",
          "data": {
            "text/plain": [
              "<IPython.core.display.HTML object>"
            ],
            "text/html": [
              "\n",
              "<style>\n",
              "    /* Turns off some styling */\n",
              "    progress {\n",
              "        /* gets rid of default border in Firefox and Opera. */\n",
              "        border: none;\n",
              "        /* Needs to be in here for Safari polyfill so background images work as expected. */\n",
              "        background-size: auto;\n",
              "    }\n",
              "    .progress-bar-interrupted, .progress-bar-interrupted::-webkit-progress-bar {\n",
              "        background: #F44336;\n",
              "    }\n",
              "</style>\n"
            ]
          },
          "metadata": {}
        },
        {
          "output_type": "display_data",
          "data": {
            "text/plain": [
              "<IPython.core.display.HTML object>"
            ],
            "text/html": [
              ""
            ]
          },
          "metadata": {}
        },
        {
          "output_type": "display_data",
          "data": {
            "text/plain": [
              "<IPython.core.display.HTML object>"
            ],
            "text/html": [
              "\n",
              "<style>\n",
              "    /* Turns off some styling */\n",
              "    progress {\n",
              "        /* gets rid of default border in Firefox and Opera. */\n",
              "        border: none;\n",
              "        /* Needs to be in here for Safari polyfill so background images work as expected. */\n",
              "        background-size: auto;\n",
              "    }\n",
              "    .progress-bar-interrupted, .progress-bar-interrupted::-webkit-progress-bar {\n",
              "        background: #F44336;\n",
              "    }\n",
              "</style>\n"
            ]
          },
          "metadata": {}
        },
        {
          "output_type": "display_data",
          "data": {
            "text/plain": [
              "<IPython.core.display.HTML object>"
            ],
            "text/html": [
              ""
            ]
          },
          "metadata": {}
        },
        {
          "output_type": "display_data",
          "data": {
            "text/plain": [
              "<IPython.core.display.HTML object>"
            ],
            "text/html": [
              "\n",
              "<style>\n",
              "    /* Turns off some styling */\n",
              "    progress {\n",
              "        /* gets rid of default border in Firefox and Opera. */\n",
              "        border: none;\n",
              "        /* Needs to be in here for Safari polyfill so background images work as expected. */\n",
              "        background-size: auto;\n",
              "    }\n",
              "    .progress-bar-interrupted, .progress-bar-interrupted::-webkit-progress-bar {\n",
              "        background: #F44336;\n",
              "    }\n",
              "</style>\n"
            ]
          },
          "metadata": {}
        },
        {
          "output_type": "display_data",
          "data": {
            "text/plain": [
              "<IPython.core.display.HTML object>"
            ],
            "text/html": [
              ""
            ]
          },
          "metadata": {}
        },
        {
          "output_type": "display_data",
          "data": {
            "text/plain": [
              "<IPython.core.display.HTML object>"
            ],
            "text/html": [
              "\n",
              "<style>\n",
              "    /* Turns off some styling */\n",
              "    progress {\n",
              "        /* gets rid of default border in Firefox and Opera. */\n",
              "        border: none;\n",
              "        /* Needs to be in here for Safari polyfill so background images work as expected. */\n",
              "        background-size: auto;\n",
              "    }\n",
              "    .progress-bar-interrupted, .progress-bar-interrupted::-webkit-progress-bar {\n",
              "        background: #F44336;\n",
              "    }\n",
              "</style>\n"
            ]
          },
          "metadata": {}
        },
        {
          "output_type": "display_data",
          "data": {
            "text/plain": [
              "<IPython.core.display.HTML object>"
            ],
            "text/html": [
              ""
            ]
          },
          "metadata": {}
        },
        {
          "output_type": "display_data",
          "data": {
            "text/plain": [
              "<IPython.core.display.HTML object>"
            ],
            "text/html": [
              "\n",
              "<style>\n",
              "    /* Turns off some styling */\n",
              "    progress {\n",
              "        /* gets rid of default border in Firefox and Opera. */\n",
              "        border: none;\n",
              "        /* Needs to be in here for Safari polyfill so background images work as expected. */\n",
              "        background-size: auto;\n",
              "    }\n",
              "    .progress-bar-interrupted, .progress-bar-interrupted::-webkit-progress-bar {\n",
              "        background: #F44336;\n",
              "    }\n",
              "</style>\n"
            ]
          },
          "metadata": {}
        },
        {
          "output_type": "display_data",
          "data": {
            "text/plain": [
              "<IPython.core.display.HTML object>"
            ],
            "text/html": [
              ""
            ]
          },
          "metadata": {}
        },
        {
          "output_type": "display_data",
          "data": {
            "text/plain": [
              "<IPython.core.display.HTML object>"
            ],
            "text/html": [
              "\n",
              "<style>\n",
              "    /* Turns off some styling */\n",
              "    progress {\n",
              "        /* gets rid of default border in Firefox and Opera. */\n",
              "        border: none;\n",
              "        /* Needs to be in here for Safari polyfill so background images work as expected. */\n",
              "        background-size: auto;\n",
              "    }\n",
              "    .progress-bar-interrupted, .progress-bar-interrupted::-webkit-progress-bar {\n",
              "        background: #F44336;\n",
              "    }\n",
              "</style>\n"
            ]
          },
          "metadata": {}
        },
        {
          "output_type": "display_data",
          "data": {
            "text/plain": [
              "<IPython.core.display.HTML object>"
            ],
            "text/html": [
              ""
            ]
          },
          "metadata": {}
        }
      ]
    }
  ]
}