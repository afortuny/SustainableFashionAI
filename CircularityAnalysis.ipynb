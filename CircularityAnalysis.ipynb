{
  "nbformat": 4,
  "nbformat_minor": 0,
  "metadata": {
    "colab": {
      "provenance": [],
      "mount_file_id": "https://github.com/afortuny/SustainableFashionAI/blob/main/CircularityAnalysis.ipynb",
      "authorship_tag": "ABX9TyPhZ9I6mIyz8sAAqX/MZ3P+",
      "include_colab_link": true
    },
    "kernelspec": {
      "name": "python3",
      "display_name": "Python 3"
    },
    "language_info": {
      "name": "python"
    }
  },
  "cells": [
    {
      "cell_type": "markdown",
      "metadata": {
        "id": "view-in-github",
        "colab_type": "text"
      },
      "source": [
        "<a href=\"https://colab.research.google.com/github/afortuny/SustainableFashionAI/blob/main/CircularityAnalysis.ipynb\" target=\"_parent\"><img src=\"https://colab.research.google.com/assets/colab-badge.svg\" alt=\"Open In Colab\"/></a>"
      ]
    },
    {
      "cell_type": "markdown",
      "source": [
        "## Analyzing product reviews to understand circularity?\n",
        "\n",
        "We will leverage the data from https://www.trailrunningreview.com/ , a leading company in product analysis, and we will evalute each trail running shoe from SS22 based on that dimensions:\n",
        "\n",
        "Circularity:\n",
        "\n",
        "*   Durability: Is the product make to last?\n",
        "*   Versatility: can the product be used for multiple conditions /situations?\n",
        "*   Sustainable materials: is the product made with organic, recycable or vegan materials?\n",
        "\n",
        "Desirability:\n",
        "\n",
        "*   Function: Is the product build up appropiate for its purpose?\n",
        "*   Innovation: Is the product disrupting the market in some sense?\n",
        "*   Price: Is the product affordable?\n",
        "\n"
      ],
      "metadata": {
        "id": "-ptHSE4zaWTF"
      }
    },
    {
      "cell_type": "markdown",
      "source": [
        "# Understanding the analytical problem at hand"
      ],
      "metadata": {
        "id": "AQxXD3YqGNPL"
      }
    },
    {
      "cell_type": "markdown",
      "source": [
        "Our dataset contain large product reviews from which we should be able to extract all the aspects above, with the exeption of price, which is already part of metadata. For the latter our plan is to simply create clusters of products based on their whole review similarity and calculate deviations with respect the average price for the cluster. For the other features we will use unsupersvised aspect sentiment analysis. To do that we need to follow the next steps:\n",
        "\n",
        "\n",
        "\n",
        "1.   Use a pretrained model in the language of the corpora. In our case spanish.\n",
        "2.   Detect the aspects of the text, map them with our key dimensions: durability, versaility, sustainability, functionality and innovation. \n",
        "3.   Cut the text parts related to the aspect\n",
        "4.   Perform sentiment analysis of the aspect related chunks\n",
        "5.   Provide a score based on the intensity of the sentiment per score.\n",
        "\n",
        "We will try the following workflow on a single review to validate our process before we do the large scale data parsing and fine tune of the language model for the domain we are working on.\n",
        "\n",
        "\n",
        "\n",
        "\n",
        "\n"
      ],
      "metadata": {
        "id": "Z_jqB05GGUQq"
      }
    },
    {
      "cell_type": "markdown",
      "source": [
        "# Testing the workflow on a single review"
      ],
      "metadata": {
        "id": "EO2QhG1sHwnn"
      }
    },
    {
      "cell_type": "code",
      "source": [
        "import chardet    \n",
        "rawdata = open('/content/drive/MyDrive/Sustainability Fashion AI/SampleReview.csv', 'rb').read()\n",
        "result = chardet.detect(rawdata)\n",
        "charenc = result['encoding']\n",
        "print(charenc)"
      ],
      "metadata": {
        "colab": {
          "base_uri": "https://localhost:8080/"
        },
        "id": "2BljckdZKoyd",
        "outputId": "bb892a3f-87a0-4597-ddf6-f428e9c4f2c5"
      },
      "execution_count": 3,
      "outputs": [
        {
          "output_type": "stream",
          "name": "stdout",
          "text": [
            "Windows-1252\n"
          ]
        }
      ]
    },
    {
      "cell_type": "code",
      "source": [
        "import pandas as pd\n",
        "review = pd.read_csv('/content/drive/MyDrive/Sustainability Fashion AI/SampleReview.csv',encoding = 'Windows-1252') \n",
        "review['durabilidad'] = ''\n",
        "review['funcionalidad'] = ''\n",
        "review['innovacion'] = ''\n",
        "review['polivalencia'] = ''\n",
        "review['sostenibilidad'] = ''"
      ],
      "metadata": {
        "id": "TGORQzD0H1x-"
      },
      "execution_count": 148,
      "outputs": []
    },
    {
      "cell_type": "markdown",
      "source": [],
      "metadata": {
        "id": "KFO_N6Eawrdx"
      }
    },
    {
      "cell_type": "code",
      "source": [
        "review_txt = review['Review'].astype(str)"
      ],
      "metadata": {
        "id": "ZNksuwTIKxzv"
      },
      "execution_count": 8,
      "outputs": []
    },
    {
      "cell_type": "markdown",
      "source": [
        "## detect the list of potential aspects and map them with our key terms based on similarity"
      ],
      "metadata": {
        "id": "uUm4tyIhLOeX"
      }
    },
    {
      "cell_type": "code",
      "source": [
        "!python -m spacy download es"
      ],
      "metadata": {
        "id": "v85zlwwYLvSl"
      },
      "execution_count": null,
      "outputs": []
    },
    {
      "cell_type": "code",
      "source": [
        "import spacy\n",
        "import pandas as pd\n",
        "nlp = spacy.load(\"es_core_news_sm\")"
      ],
      "metadata": {
        "id": "4d3_RUNQGMZ6"
      },
      "execution_count": 19,
      "outputs": []
    },
    {
      "cell_type": "code",
      "source": [
        "aspects_p = nlp(\"durabilidad sostenibilidad polivalencia funcionalidad innovacion\")"
      ],
      "metadata": {
        "id": "IsUpJsUJxZUq"
      },
      "execution_count": 114,
      "outputs": []
    },
    {
      "cell_type": "code",
      "source": [
        "review"
      ],
      "metadata": {
        "id": "OyaEPviE1EUq",
        "outputId": "3087ce89-8689-4068-c5a7-1fb88443017e",
        "colab": {
          "base_uri": "https://localhost:8080/",
          "height": 144
        }
      },
      "execution_count": 149,
      "outputs": [
        {
          "output_type": "execute_result",
          "data": {
            "text/plain": [
              "                     Model    Brand       Weight     Price  Drop  \\\n",
              "0           MAFATE SPEED 4     HOKA  241 / 295 g  175,00 €  4 mm   \n",
              "1  AGILITY PEAK 4 GORE-TEX  MERRELL  264 / 320 g  140,00 €  6 mm   \n",
              "2    REACT PEGASUS TRAIL 4     NIKE        291 g  129,99 €  9 mm   \n",
              "\n",
              "  Runner weight          Use          Terrain  \\\n",
              "0         Medio  Polivalente  Larga distancia   \n",
              "1        Pesado  Polivalente  Larga distancia   \n",
              "2        Ligero     Compacto  Larga distancia   \n",
              "\n",
              "                                              Review durabilidad  \\\n",
              "0  Sin duda la considerable media suela de las Ho...               \n",
              "1  Ahora que en breve viene el frío y mal tiempo,...               \n",
              "2  Podríamos decir que estas Nike React Pegasus T...               \n",
              "\n",
              "  funcionalidad innovacion polivalencia sostenibilidad  \n",
              "0                                                       \n",
              "1                                                       \n",
              "2                                                       "
            ],
            "text/html": [
              "\n",
              "  <div id=\"df-33a845c7-87a3-4878-a699-10ea9d2a61f6\">\n",
              "    <div class=\"colab-df-container\">\n",
              "      <div>\n",
              "<style scoped>\n",
              "    .dataframe tbody tr th:only-of-type {\n",
              "        vertical-align: middle;\n",
              "    }\n",
              "\n",
              "    .dataframe tbody tr th {\n",
              "        vertical-align: top;\n",
              "    }\n",
              "\n",
              "    .dataframe thead th {\n",
              "        text-align: right;\n",
              "    }\n",
              "</style>\n",
              "<table border=\"1\" class=\"dataframe\">\n",
              "  <thead>\n",
              "    <tr style=\"text-align: right;\">\n",
              "      <th></th>\n",
              "      <th>Model</th>\n",
              "      <th>Brand</th>\n",
              "      <th>Weight</th>\n",
              "      <th>Price</th>\n",
              "      <th>Drop</th>\n",
              "      <th>Runner weight</th>\n",
              "      <th>Use</th>\n",
              "      <th>Terrain</th>\n",
              "      <th>Review</th>\n",
              "      <th>durabilidad</th>\n",
              "      <th>funcionalidad</th>\n",
              "      <th>innovacion</th>\n",
              "      <th>polivalencia</th>\n",
              "      <th>sostenibilidad</th>\n",
              "    </tr>\n",
              "  </thead>\n",
              "  <tbody>\n",
              "    <tr>\n",
              "      <th>0</th>\n",
              "      <td>MAFATE SPEED 4</td>\n",
              "      <td>HOKA</td>\n",
              "      <td>241 / 295 g</td>\n",
              "      <td>175,00 €</td>\n",
              "      <td>4 mm</td>\n",
              "      <td>Medio</td>\n",
              "      <td>Polivalente</td>\n",
              "      <td>Larga distancia</td>\n",
              "      <td>Sin duda la considerable media suela de las Ho...</td>\n",
              "      <td></td>\n",
              "      <td></td>\n",
              "      <td></td>\n",
              "      <td></td>\n",
              "      <td></td>\n",
              "    </tr>\n",
              "    <tr>\n",
              "      <th>1</th>\n",
              "      <td>AGILITY PEAK 4 GORE-TEX</td>\n",
              "      <td>MERRELL</td>\n",
              "      <td>264 / 320 g</td>\n",
              "      <td>140,00 €</td>\n",
              "      <td>6 mm</td>\n",
              "      <td>Pesado</td>\n",
              "      <td>Polivalente</td>\n",
              "      <td>Larga distancia</td>\n",
              "      <td>Ahora que en breve viene el frío y mal tiempo,...</td>\n",
              "      <td></td>\n",
              "      <td></td>\n",
              "      <td></td>\n",
              "      <td></td>\n",
              "      <td></td>\n",
              "    </tr>\n",
              "    <tr>\n",
              "      <th>2</th>\n",
              "      <td>REACT PEGASUS TRAIL 4</td>\n",
              "      <td>NIKE</td>\n",
              "      <td>291 g</td>\n",
              "      <td>129,99 €</td>\n",
              "      <td>9 mm</td>\n",
              "      <td>Ligero</td>\n",
              "      <td>Compacto</td>\n",
              "      <td>Larga distancia</td>\n",
              "      <td>Podríamos decir que estas Nike React Pegasus T...</td>\n",
              "      <td></td>\n",
              "      <td></td>\n",
              "      <td></td>\n",
              "      <td></td>\n",
              "      <td></td>\n",
              "    </tr>\n",
              "  </tbody>\n",
              "</table>\n",
              "</div>\n",
              "      <button class=\"colab-df-convert\" onclick=\"convertToInteractive('df-33a845c7-87a3-4878-a699-10ea9d2a61f6')\"\n",
              "              title=\"Convert this dataframe to an interactive table.\"\n",
              "              style=\"display:none;\">\n",
              "        \n",
              "  <svg xmlns=\"http://www.w3.org/2000/svg\" height=\"24px\"viewBox=\"0 0 24 24\"\n",
              "       width=\"24px\">\n",
              "    <path d=\"M0 0h24v24H0V0z\" fill=\"none\"/>\n",
              "    <path d=\"M18.56 5.44l.94 2.06.94-2.06 2.06-.94-2.06-.94-.94-2.06-.94 2.06-2.06.94zm-11 1L8.5 8.5l.94-2.06 2.06-.94-2.06-.94L8.5 2.5l-.94 2.06-2.06.94zm10 10l.94 2.06.94-2.06 2.06-.94-2.06-.94-.94-2.06-.94 2.06-2.06.94z\"/><path d=\"M17.41 7.96l-1.37-1.37c-.4-.4-.92-.59-1.43-.59-.52 0-1.04.2-1.43.59L10.3 9.45l-7.72 7.72c-.78.78-.78 2.05 0 2.83L4 21.41c.39.39.9.59 1.41.59.51 0 1.02-.2 1.41-.59l7.78-7.78 2.81-2.81c.8-.78.8-2.07 0-2.86zM5.41 20L4 18.59l7.72-7.72 1.47 1.35L5.41 20z\"/>\n",
              "  </svg>\n",
              "      </button>\n",
              "      \n",
              "  <style>\n",
              "    .colab-df-container {\n",
              "      display:flex;\n",
              "      flex-wrap:wrap;\n",
              "      gap: 12px;\n",
              "    }\n",
              "\n",
              "    .colab-df-convert {\n",
              "      background-color: #E8F0FE;\n",
              "      border: none;\n",
              "      border-radius: 50%;\n",
              "      cursor: pointer;\n",
              "      display: none;\n",
              "      fill: #1967D2;\n",
              "      height: 32px;\n",
              "      padding: 0 0 0 0;\n",
              "      width: 32px;\n",
              "    }\n",
              "\n",
              "    .colab-df-convert:hover {\n",
              "      background-color: #E2EBFA;\n",
              "      box-shadow: 0px 1px 2px rgba(60, 64, 67, 0.3), 0px 1px 3px 1px rgba(60, 64, 67, 0.15);\n",
              "      fill: #174EA6;\n",
              "    }\n",
              "\n",
              "    [theme=dark] .colab-df-convert {\n",
              "      background-color: #3B4455;\n",
              "      fill: #D2E3FC;\n",
              "    }\n",
              "\n",
              "    [theme=dark] .colab-df-convert:hover {\n",
              "      background-color: #434B5C;\n",
              "      box-shadow: 0px 1px 3px 1px rgba(0, 0, 0, 0.15);\n",
              "      filter: drop-shadow(0px 1px 2px rgba(0, 0, 0, 0.3));\n",
              "      fill: #FFFFFF;\n",
              "    }\n",
              "  </style>\n",
              "\n",
              "      <script>\n",
              "        const buttonEl =\n",
              "          document.querySelector('#df-33a845c7-87a3-4878-a699-10ea9d2a61f6 button.colab-df-convert');\n",
              "        buttonEl.style.display =\n",
              "          google.colab.kernel.accessAllowed ? 'block' : 'none';\n",
              "\n",
              "        async function convertToInteractive(key) {\n",
              "          const element = document.querySelector('#df-33a845c7-87a3-4878-a699-10ea9d2a61f6');\n",
              "          const dataTable =\n",
              "            await google.colab.kernel.invokeFunction('convertToInteractive',\n",
              "                                                     [key], {});\n",
              "          if (!dataTable) return;\n",
              "\n",
              "          const docLinkHtml = 'Like what you see? Visit the ' +\n",
              "            '<a target=\"_blank\" href=https://colab.research.google.com/notebooks/data_table.ipynb>data table notebook</a>'\n",
              "            + ' to learn more about interactive tables.';\n",
              "          element.innerHTML = '';\n",
              "          dataTable['output_type'] = 'display_data';\n",
              "          await google.colab.output.renderOutput(dataTable, element);\n",
              "          const docLink = document.createElement('div');\n",
              "          docLink.innerHTML = docLinkHtml;\n",
              "          element.appendChild(docLink);\n",
              "        }\n",
              "      </script>\n",
              "    </div>\n",
              "  </div>\n",
              "  "
            ]
          },
          "metadata": {},
          "execution_count": 149
        }
      ]
    },
    {
      "cell_type": "code",
      "source": [
        "#for i in range(0,len(review.index)):\n",
        "for i in range(0,2):\n",
        "  review_p = nlp(nlp(review.loc[i][\"Review\"]))\n",
        "  scores = [(aspect.text, token.text, aspect.similarity(token)) for token in review_p.ents for aspect in aspects_p]\n",
        "  df = pd.DataFrame(scores)\n",
        "  df.columns =['aspect', 'term','similarity']\n",
        "  df = df.drop_duplicates(\n",
        "  subset = ['aspect', 'term'],\n",
        "  keep = 'last').reset_index(drop = True)\n",
        "  df_results = df.groupby('aspect').agg({'similarity': ['median', 'min', 'max']})\n",
        "  df_results.columns = [\"median\",\"min\",\"max\"]\n",
        "  #max= df['similarity'].max()\n",
        "  df_results['score'] = df_results['median']\n",
        "  review.loc[i,['durabilidad','funcionalidad','innovacion','polivalencia','sostenibilidad']] = df_results['score'].T"
      ],
      "metadata": {
        "id": "8ODlTRDaxJUh",
        "outputId": "91b09312-bad6-4ef0-e2da-2ef08220ef22",
        "colab": {
          "base_uri": "https://localhost:8080/"
        }
      },
      "execution_count": 166,
      "outputs": [
        {
          "output_type": "stream",
          "name": "stderr",
          "text": [
            "/usr/local/lib/python3.7/dist-packages/ipykernel_launcher.py:4: UserWarning: [W007] The model you're using has no word vectors loaded, so the result of the Token.similarity method will be based on the tagger, parser and NER, which may not give useful similarity judgements. This may happen if you're using one of the small models, e.g. `en_core_web_sm`, which don't ship with word vectors and only use context-sensitive tensors. You can always add your own word vectors, or use one of the larger models instead if available.\n",
            "  after removing the cwd from sys.path.\n"
          ]
        }
      ]
    },
    {
      "cell_type": "code",
      "source": [
        "review"
      ],
      "metadata": {
        "id": "wqK3KF-kz_Pj",
        "outputId": "33032d9d-9808-4904-a131-8571187bd177",
        "colab": {
          "base_uri": "https://localhost:8080/",
          "height": 144
        }
      },
      "execution_count": 167,
      "outputs": [
        {
          "output_type": "execute_result",
          "data": {
            "text/plain": [
              "                     Model    Brand       Weight     Price  Drop  \\\n",
              "0           MAFATE SPEED 4     HOKA  241 / 295 g  175,00 €  4 mm   \n",
              "1  AGILITY PEAK 4 GORE-TEX  MERRELL  264 / 320 g  140,00 €  6 mm   \n",
              "2    REACT PEGASUS TRAIL 4     NIKE        291 g  129,99 €  9 mm   \n",
              "\n",
              "  Runner weight          Use          Terrain  \\\n",
              "0         Medio  Polivalente  Larga distancia   \n",
              "1        Pesado  Polivalente  Larga distancia   \n",
              "2        Ligero     Compacto  Larga distancia   \n",
              "\n",
              "                                              Review durabilidad  \\\n",
              "0  Sin duda la considerable media suela de las Ho...     0.08158   \n",
              "1  Ahora que en breve viene el frío y mal tiempo,...    0.134401   \n",
              "2  Podríamos decir que estas Nike React Pegasus T...    0.533297   \n",
              "\n",
              "  funcionalidad innovacion polivalencia sostenibilidad  \n",
              "0      0.200202   0.053097     0.087416       0.063019  \n",
              "1      0.317105   0.354117     0.190218       0.135602  \n",
              "2      0.922819        1.0     0.633271       0.558242  "
            ],
            "text/html": [
              "\n",
              "  <div id=\"df-5dc7281d-a931-425f-9b78-cfedf67f6481\">\n",
              "    <div class=\"colab-df-container\">\n",
              "      <div>\n",
              "<style scoped>\n",
              "    .dataframe tbody tr th:only-of-type {\n",
              "        vertical-align: middle;\n",
              "    }\n",
              "\n",
              "    .dataframe tbody tr th {\n",
              "        vertical-align: top;\n",
              "    }\n",
              "\n",
              "    .dataframe thead th {\n",
              "        text-align: right;\n",
              "    }\n",
              "</style>\n",
              "<table border=\"1\" class=\"dataframe\">\n",
              "  <thead>\n",
              "    <tr style=\"text-align: right;\">\n",
              "      <th></th>\n",
              "      <th>Model</th>\n",
              "      <th>Brand</th>\n",
              "      <th>Weight</th>\n",
              "      <th>Price</th>\n",
              "      <th>Drop</th>\n",
              "      <th>Runner weight</th>\n",
              "      <th>Use</th>\n",
              "      <th>Terrain</th>\n",
              "      <th>Review</th>\n",
              "      <th>durabilidad</th>\n",
              "      <th>funcionalidad</th>\n",
              "      <th>innovacion</th>\n",
              "      <th>polivalencia</th>\n",
              "      <th>sostenibilidad</th>\n",
              "    </tr>\n",
              "  </thead>\n",
              "  <tbody>\n",
              "    <tr>\n",
              "      <th>0</th>\n",
              "      <td>MAFATE SPEED 4</td>\n",
              "      <td>HOKA</td>\n",
              "      <td>241 / 295 g</td>\n",
              "      <td>175,00 €</td>\n",
              "      <td>4 mm</td>\n",
              "      <td>Medio</td>\n",
              "      <td>Polivalente</td>\n",
              "      <td>Larga distancia</td>\n",
              "      <td>Sin duda la considerable media suela de las Ho...</td>\n",
              "      <td>0.08158</td>\n",
              "      <td>0.200202</td>\n",
              "      <td>0.053097</td>\n",
              "      <td>0.087416</td>\n",
              "      <td>0.063019</td>\n",
              "    </tr>\n",
              "    <tr>\n",
              "      <th>1</th>\n",
              "      <td>AGILITY PEAK 4 GORE-TEX</td>\n",
              "      <td>MERRELL</td>\n",
              "      <td>264 / 320 g</td>\n",
              "      <td>140,00 €</td>\n",
              "      <td>6 mm</td>\n",
              "      <td>Pesado</td>\n",
              "      <td>Polivalente</td>\n",
              "      <td>Larga distancia</td>\n",
              "      <td>Ahora que en breve viene el frío y mal tiempo,...</td>\n",
              "      <td>0.134401</td>\n",
              "      <td>0.317105</td>\n",
              "      <td>0.354117</td>\n",
              "      <td>0.190218</td>\n",
              "      <td>0.135602</td>\n",
              "    </tr>\n",
              "    <tr>\n",
              "      <th>2</th>\n",
              "      <td>REACT PEGASUS TRAIL 4</td>\n",
              "      <td>NIKE</td>\n",
              "      <td>291 g</td>\n",
              "      <td>129,99 €</td>\n",
              "      <td>9 mm</td>\n",
              "      <td>Ligero</td>\n",
              "      <td>Compacto</td>\n",
              "      <td>Larga distancia</td>\n",
              "      <td>Podríamos decir que estas Nike React Pegasus T...</td>\n",
              "      <td>0.533297</td>\n",
              "      <td>0.922819</td>\n",
              "      <td>1.0</td>\n",
              "      <td>0.633271</td>\n",
              "      <td>0.558242</td>\n",
              "    </tr>\n",
              "  </tbody>\n",
              "</table>\n",
              "</div>\n",
              "      <button class=\"colab-df-convert\" onclick=\"convertToInteractive('df-5dc7281d-a931-425f-9b78-cfedf67f6481')\"\n",
              "              title=\"Convert this dataframe to an interactive table.\"\n",
              "              style=\"display:none;\">\n",
              "        \n",
              "  <svg xmlns=\"http://www.w3.org/2000/svg\" height=\"24px\"viewBox=\"0 0 24 24\"\n",
              "       width=\"24px\">\n",
              "    <path d=\"M0 0h24v24H0V0z\" fill=\"none\"/>\n",
              "    <path d=\"M18.56 5.44l.94 2.06.94-2.06 2.06-.94-2.06-.94-.94-2.06-.94 2.06-2.06.94zm-11 1L8.5 8.5l.94-2.06 2.06-.94-2.06-.94L8.5 2.5l-.94 2.06-2.06.94zm10 10l.94 2.06.94-2.06 2.06-.94-2.06-.94-.94-2.06-.94 2.06-2.06.94z\"/><path d=\"M17.41 7.96l-1.37-1.37c-.4-.4-.92-.59-1.43-.59-.52 0-1.04.2-1.43.59L10.3 9.45l-7.72 7.72c-.78.78-.78 2.05 0 2.83L4 21.41c.39.39.9.59 1.41.59.51 0 1.02-.2 1.41-.59l7.78-7.78 2.81-2.81c.8-.78.8-2.07 0-2.86zM5.41 20L4 18.59l7.72-7.72 1.47 1.35L5.41 20z\"/>\n",
              "  </svg>\n",
              "      </button>\n",
              "      \n",
              "  <style>\n",
              "    .colab-df-container {\n",
              "      display:flex;\n",
              "      flex-wrap:wrap;\n",
              "      gap: 12px;\n",
              "    }\n",
              "\n",
              "    .colab-df-convert {\n",
              "      background-color: #E8F0FE;\n",
              "      border: none;\n",
              "      border-radius: 50%;\n",
              "      cursor: pointer;\n",
              "      display: none;\n",
              "      fill: #1967D2;\n",
              "      height: 32px;\n",
              "      padding: 0 0 0 0;\n",
              "      width: 32px;\n",
              "    }\n",
              "\n",
              "    .colab-df-convert:hover {\n",
              "      background-color: #E2EBFA;\n",
              "      box-shadow: 0px 1px 2px rgba(60, 64, 67, 0.3), 0px 1px 3px 1px rgba(60, 64, 67, 0.15);\n",
              "      fill: #174EA6;\n",
              "    }\n",
              "\n",
              "    [theme=dark] .colab-df-convert {\n",
              "      background-color: #3B4455;\n",
              "      fill: #D2E3FC;\n",
              "    }\n",
              "\n",
              "    [theme=dark] .colab-df-convert:hover {\n",
              "      background-color: #434B5C;\n",
              "      box-shadow: 0px 1px 3px 1px rgba(0, 0, 0, 0.15);\n",
              "      filter: drop-shadow(0px 1px 2px rgba(0, 0, 0, 0.3));\n",
              "      fill: #FFFFFF;\n",
              "    }\n",
              "  </style>\n",
              "\n",
              "      <script>\n",
              "        const buttonEl =\n",
              "          document.querySelector('#df-5dc7281d-a931-425f-9b78-cfedf67f6481 button.colab-df-convert');\n",
              "        buttonEl.style.display =\n",
              "          google.colab.kernel.accessAllowed ? 'block' : 'none';\n",
              "\n",
              "        async function convertToInteractive(key) {\n",
              "          const element = document.querySelector('#df-5dc7281d-a931-425f-9b78-cfedf67f6481');\n",
              "          const dataTable =\n",
              "            await google.colab.kernel.invokeFunction('convertToInteractive',\n",
              "                                                     [key], {});\n",
              "          if (!dataTable) return;\n",
              "\n",
              "          const docLinkHtml = 'Like what you see? Visit the ' +\n",
              "            '<a target=\"_blank\" href=https://colab.research.google.com/notebooks/data_table.ipynb>data table notebook</a>'\n",
              "            + ' to learn more about interactive tables.';\n",
              "          element.innerHTML = '';\n",
              "          dataTable['output_type'] = 'display_data';\n",
              "          await google.colab.output.renderOutput(dataTable, element);\n",
              "          const docLink = document.createElement('div');\n",
              "          docLink.innerHTML = docLinkHtml;\n",
              "          element.appendChild(docLink);\n",
              "        }\n",
              "      </script>\n",
              "    </div>\n",
              "  </div>\n",
              "  "
            ]
          },
          "metadata": {},
          "execution_count": 167
        }
      ]
    },
    {
      "cell_type": "code",
      "source": [
        "review.to_csv(\"export.csv\")"
      ],
      "metadata": {
        "id": "0hTRNJwH4hOa"
      },
      "execution_count": 168,
      "outputs": []
    }
  ]
}